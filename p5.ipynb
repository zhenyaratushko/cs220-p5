{
 "cells": [
  {
   "cell_type": "code",
   "execution_count": 1,
   "id": "3f6c8d37",
   "metadata": {
    "deletable": false,
    "editable": false
   },
   "outputs": [],
   "source": [
    "# Initialize Otter\n",
    "import otter\n",
    "grader = otter.Notebook(\"p5.ipynb\")"
   ]
  },
  {
   "cell_type": "code",
   "execution_count": 2,
   "id": "9e01d7d8",
   "metadata": {},
   "outputs": [],
   "source": [
    "import p5_test"
   ]
  },
  {
   "cell_type": "markdown",
   "id": "7c555bb0",
   "metadata": {},
   "source": [
    "# Project 5: Investigating Hurricane Data"
   ]
  },
  {
   "cell_type": "markdown",
   "id": "882eebe1",
   "metadata": {},
   "source": [
    "## Learning Objectives:\n",
    "\n",
    "In this project you will demonstrate how to:\n",
    "- Write fundamental loop structures,\n",
    "- Perform basic string manipulations,\n",
    "- Create your own helper functions as outlined in lab-p5."
   ]
  },
  {
   "cell_type": "markdown",
   "id": "c39ead2c",
   "metadata": {},
   "source": [
    "## Testing your code:\n",
    "\n",
    "Along with this notebook, you must have downloaded the file `p5_test.py`. If you are curious about how we test your code, you can explore this file, and specifically the value of the variable `expected_json`, to understand the expected answers to the questions. You can have a look at [p2](https://git.doit.wisc.edu/cdis/cs/courses/cs220/cs220-f22-projects/-/tree/main/p2/p2.ipynb) if you have forgotten how to read the outputs of the `grader.check()` function calls."
   ]
  },
  {
   "cell_type": "markdown",
   "id": "6345a4fd",
   "metadata": {},
   "source": [
    "**Please go through [lab-p5](https://git.doit.wisc.edu/cdis/cs/courses/cs220/cs220-f22-projects/-/tree/main/lab-p5) before starting this project.** The lab introduces some useful techniques necessary for this project."
   ]
  },
  {
   "cell_type": "markdown",
   "id": "d8fdac7e",
   "metadata": {},
   "source": [
    "## Project Description:\n",
    "\n",
    "Hurricanes often count among the worst natural disasters, both in terms of monetary costs, and more importantly, human life. Data Science can help us better understand these storms. For example, take a quick look at this FiveThirtyEight analysis by Maggie Koerth-Baker: [Why We're Stuck With An Inadequate Hurricane Rating System](https://fivethirtyeight.com/features/why-were-stuck-with-an-inadequate-hurricane-rating-system/)\n",
    "\n",
    "For this project, you'll be analyzing data in the `hurricanes.csv` file. We generated this data file by writing a Python program to extract data from several lists of hurricanes over the Atlantic Ocean on Wikipedia (here is an [example](https://en.wikipedia.org/wiki/2022_Atlantic_hurricane_season)). You can take a look at the script `gen_csv.ipynb` yourself. At the end of the semester, you will be able to write it yourself. \n",
    "\n",
    "Start by downloading `project.py`, `p5_test.py`, and `hurricanes.csv` if you haven't already downloaded them. Double check that these files don't get renamed by your browser (by running `ls` in the terminal from your `p5` project directory). \n",
    "\n",
    "\n",
    "We won't explain how to use the `project` module here (the code in the `project.py` file). Refer to [lab-p5](https://git.doit.wisc.edu/cdis/cs/courses/cs220/cs220-f22-projects/-/tree/main/lab-p5) to understand how the module works. If necessary, use the `help` function to learn about the various functions inside `project.py`. Feel free to take a look at the `project.py` code, if you are curious about how it works.\n",
    "\n",
    "This project consists of writing code to answer 20 questions."
   ]
  },
  {
   "cell_type": "markdown",
   "id": "3d3e93cc",
   "metadata": {},
   "source": [
    "## Dataset:\n",
    "\n",
    "The dataset you will be working with in this project is linked here [hurricanes](https://git.doit.wisc.edu/cdis/cs/courses/cs220/cs220-f22-projects/-/tree/main/p5/hurricanes.csv). Be sure to look at this csv to see what it contains, and specifically what the names of the columns are.\n",
    "\n",
    "If needed, you can open the `hurricanes.csv` file, to verify answers to simple questions, but you must still have the correct code in your submission!"
   ]
  },
  {
   "cell_type": "markdown",
   "id": "c45dc69a",
   "metadata": {},
   "source": [
    "## Project Requirements:\n",
    "\n",
    "You **may not** hardcode indices in your code. If you hardcode the value of `project.count()`, we'll **manually deduct** points from your autograder score on Gradescope during code review. If you are not sure what hardcoding is, here is a simple test you can use to determine whether you have hardcoded:\n",
    "\n",
    "*If we were to change the data (e.g. add more hurricanes, or switch the columns or rows) would your code still find the correct answer to the question as it is asked?*\n",
    "\n",
    "If your answer to that question is *No*, then you have likely hardcoded something. Please reach out to TAs/PMs during office hours to find out how you can **avoid hardcoding**.\n",
    "\n",
    "**Store** your final answer for each question in the **variable specified for each question**. This step is important because Otter grades your work by comparing the value of this variable against the correct answer.\n",
    "\n",
    "For some of the questions, we'll ask you to write (then use) a function to compute the answer.  If you compute the answer **without** creating the function we ask you to write, we'll **manually deduct** points from your autograder score on Gradescope, even if the way you did it produced the correct answer. \n",
    "\n",
    "Required Functions:\n",
    "- `get_month(date)`\n",
    "- `get_day(date)`\n",
    "- `get_year(date)`\n",
    "- `format_damage(damage)`\n",
    "- `deadliest_in_range(year1, year2)`\n",
    "- `get_year_total(year)`\n",
    "    \n",
    "Students are only allowed to use Python commands and concepts that have been taught in the course prior to the release of p5. Therefore, **you should not use concepts/modules such as lists, dictionaries, or the pandas module, to name a few examples**.  We will **manually deduct** points from your autograder score on Gradescope otherwise.\n",
    "\n",
    "For more details on what will cause you to lose points during code review and specific requirements, please take a look at the [Grading rubric](https://git.doit.wisc.edu/cdis/cs/courses/cs220/cs220-f22-projects/-/blob/main/p5/rubric.md)."
   ]
  },
  {
   "cell_type": "markdown",
   "id": "4b702c61",
   "metadata": {},
   "source": [
    "## Incremental Coding and Testing:\n",
    "\n",
    "You should always strive to do incremental coding. Incremental coding enables you to avoid challenging bugs. Always write a few lines of code and then test those lines of code, before proceeding to write further code. You can call the `print` function to test intermediate step outputs.\n",
    "\n",
    "We also recommend you do incremental testing: make sure to run the local tests as soon as you are done with a question. This will ensure that you haven't made a big mistake that might potentially impact the rest of your project solution. Please refrain from making multiple submissions on Gradescope for testing individual questions' answers. Instead use the local tests, to test your solution on your laptop.\n",
    "\n",
    "That said, it is **important** that you check the Gradescope test results as soon as you submit your project on Gradescope. Test results on Gradescope are typically available somewhere between 2 to 10 minutes after the submission.\n",
    "\n",
    "Also, remember to check with the [p5 rubric](https://git.doit.wisc.edu/cdis/cs/courses/cs220/cs220-f22-projects/-/blob/main/p5/rubric.md) to verify that you will not be losing any points during manual review."
   ]
  },
  {
   "cell_type": "markdown",
   "id": "f03e868f",
   "metadata": {},
   "source": [
    "## Project Questions and Functions:"
   ]
  },
  {
   "cell_type": "code",
   "execution_count": 3,
   "id": "9b4a55fe",
   "metadata": {
    "tags": []
   },
   "outputs": [],
   "source": [
    "# it is considered a good coding practice to place all import statements at the top of the notebook\n",
    "# please place all your import statements in this cell if you need to import any more modules for this project\n",
    "import project"
   ]
  },
  {
   "cell_type": "code",
   "execution_count": 4,
   "id": "80df0a14",
   "metadata": {},
   "outputs": [
    {
     "name": "stdout",
     "output_type": "stream",
     "text": [
      "Help on module project:\n",
      "\n",
      "NAME\n",
      "    project\n",
      "\n",
      "FUNCTIONS\n",
      "    __init__()\n",
      "    \n",
      "    count()\n",
      "        This function will return the number of records in the dataset\n",
      "    \n",
      "    get_damage(idx)\n",
      "        get_damage(idx) returns the damage in dollars of the hurricane in row idx\n",
      "    \n",
      "    get_deaths(idx)\n",
      "        get_deaths(idx) returns the deaths of the hurricane in row idx\n",
      "    \n",
      "    get_dissipated(idx)\n",
      "        get_dissipated(idx) returns the date of dissipation of the hurricane in row idx\n",
      "    \n",
      "    get_formed(idx)\n",
      "        get_formed(idx) returns the date of formation of the hurricane in row idx\n",
      "    \n",
      "    get_mph(idx)\n",
      "        get_mph(idx) returns the mph of the hurricane in row idx\n",
      "    \n",
      "    get_name(idx)\n",
      "        get_name(idx) returns the name of the hurricane in row idx\n",
      "\n",
      "DATA\n",
      "    __hurricane__ = [{'damage': '100K', 'deaths': '16', 'dissipated': '09/...\n",
      "\n",
      "FILE\n",
      "    /Users/zhenyaratushko/Documents/CS220/projects/p5/project.py\n",
      "\n",
      "\n"
     ]
    }
   ],
   "source": [
    "help(project)"
   ]
  },
  {
   "attachments": {
    "table.PNG": {
     "image/png": "[encoded data removed]"
    }
   },
   "cell_type": "markdown",
   "id": "c56d7e7e",
   "metadata": {},
   "source": [
    "For the first three questions, you do not have to define any of your own functions. Use the `project` module by calling the specific function needed to solve a certain question.\n",
    "\n",
    "*Please Note*, indexing in python starts from **0**. Therefore, if a question asks you to use a certain value's **index**, do not be confused that with the **location** of the value in the dataset. In our dataset here,\n",
    "\n",
    "![table.PNG](attachment:table.PNG)\n",
    "\n",
    "the **index** for `1804 New England Hurricane` is 0, but the **location** is 1, and the **row number** is 2. Be sure to keep this concept in mind for *all* questions asking for the value at a particular **index**."
   ]
  },
  {
   "cell_type": "markdown",
   "id": "642cda16",
   "metadata": {},
   "source": [
    "**Question 1:** How many hurricanes does the dataset have?"
   ]
  },
  {
   "cell_type": "code",
   "execution_count": 5,
   "id": "ffcbcaad",
   "metadata": {
    "tags": []
   },
   "outputs": [
    {
     "data": {
      "text/plain": [
       "547"
      ]
     },
     "execution_count": 5,
     "metadata": {},
     "output_type": "execute_result"
    }
   ],
   "source": [
    "# compute and store the answer in the variable 'num_hurricanes'\n",
    "num_hurricanes = project.count()\n",
    "# display the variable 'num_hurricanes' here\n",
    "num_hurricanes"
   ]
  },
  {
   "cell_type": "code",
   "execution_count": 6,
   "id": "9c10fe9a",
   "metadata": {
    "deletable": false,
    "editable": false
   },
   "outputs": [
    {
     "data": {
      "text/html": [
       "<p><strong><pre style='display: inline;'>q1</pre></strong> passed!</p>"
      ],
      "text/plain": [
       "q1 results: All test cases passed!"
      ]
     },
     "execution_count": 6,
     "metadata": {},
     "output_type": "execute_result"
    }
   ],
   "source": [
    "grader.check(\"q1\")"
   ]
  },
  {
   "cell_type": "markdown",
   "id": "c43b3449",
   "metadata": {},
   "source": [
    "**Question 2:** How many `deaths` were caused by the hurricane at index `220`?"
   ]
  },
  {
   "cell_type": "code",
   "execution_count": 7,
   "id": "8d7afa09",
   "metadata": {
    "tags": []
   },
   "outputs": [
    {
     "data": {
      "text/plain": [
       "5"
      ]
     },
     "execution_count": 7,
     "metadata": {},
     "output_type": "execute_result"
    }
   ],
   "source": [
    "# compute and store the answer in the variable 'deaths_220'\n",
    "deaths_220 = project.get_deaths(220)\n",
    "# display the variable 'deaths_220' here\n",
    "deaths_220"
   ]
  },
  {
   "cell_type": "code",
   "execution_count": 8,
   "id": "19d067d2",
   "metadata": {
    "deletable": false,
    "editable": false
   },
   "outputs": [
    {
     "data": {
      "text/html": [
       "<p><strong><pre style='display: inline;'>q2</pre></strong> passed!</p>"
      ],
      "text/plain": [
       "q2 results: All test cases passed!"
      ]
     },
     "execution_count": 8,
     "metadata": {},
     "output_type": "execute_result"
    }
   ],
   "source": [
    "grader.check(\"q2\")"
   ]
  },
  {
   "cell_type": "markdown",
   "id": "8f301eea",
   "metadata": {},
   "source": [
    "**Question 3:** What is the `name` of the hurricane at the `last` index?\n",
    "\n",
    "**Hint**: Your code should work even if the number of hurricanes in the dataset were to change. You **must not hardcode** the index of the last hurricane."
   ]
  },
  {
   "cell_type": "code",
   "execution_count": 9,
   "id": "c602b566",
   "metadata": {
    "tags": []
   },
   "outputs": [
    {
     "data": {
      "text/plain": [
       "'Fiona'"
      ]
     },
     "execution_count": 9,
     "metadata": {},
     "output_type": "execute_result"
    }
   ],
   "source": [
    "# compute and store the answer in the variable 'name_last_index'\n",
    "name_last_index = project.get_name(project.count() - 1)\n",
    "# display the variable 'name_last_index' here\n",
    "name_last_index"
   ]
  },
  {
   "cell_type": "code",
   "execution_count": 10,
   "id": "dcc23702",
   "metadata": {
    "deletable": false,
    "editable": false
   },
   "outputs": [
    {
     "data": {
      "text/html": [
       "<p><strong><pre style='display: inline;'>q3</pre></strong> passed!</p>"
      ],
      "text/plain": [
       "q3 results: All test cases passed!"
      ]
     },
     "execution_count": 10,
     "metadata": {},
     "output_type": "execute_result"
    }
   ],
   "source": [
    "grader.check(\"q3\")"
   ]
  },
  {
   "cell_type": "markdown",
   "id": "6706bfc4",
   "metadata": {},
   "source": [
    "**Question 4:** How many hurricanes `named` *Ida* are in the dataset?\n",
    "\n",
    "**Hint:** Loop through *all* hurricanes and count the hurricanes whose `name` is *Ida*."
   ]
  },
  {
   "cell_type": "code",
   "execution_count": 11,
   "id": "aafa3946",
   "metadata": {
    "tags": []
   },
   "outputs": [
    {
     "data": {
      "text/plain": [
       "2"
      ]
     },
     "execution_count": 11,
     "metadata": {},
     "output_type": "execute_result"
    }
   ],
   "source": [
    "# compute and store the answer in the variable 'ida_count'\n",
    "ida_count = 0\n",
    "for idx in range(project.count()):\n",
    "    if project.get_name(idx) == \"Ida\":\n",
    "        ida_count += 1\n",
    "# display the variable 'ida_count' here\n",
    "ida_count"
   ]
  },
  {
   "cell_type": "code",
   "execution_count": 12,
   "id": "89661779",
   "metadata": {
    "deletable": false,
    "editable": false
   },
   "outputs": [
    {
     "data": {
      "text/html": [
       "<p><strong><pre style='display: inline;'>q4</pre></strong> passed!</p>"
      ],
      "text/plain": [
       "q4 results: All test cases passed!"
      ]
     },
     "execution_count": 12,
     "metadata": {},
     "output_type": "execute_result"
    }
   ],
   "source": [
    "grader.check(\"q4\")"
   ]
  },
  {
   "cell_type": "markdown",
   "id": "0c4d57a6",
   "metadata": {},
   "source": [
    "**Question 5:** What is the **fastest** speed (in `mph`) of a hurricane in the dataset?\n",
    "\n",
    "**Hint**: Look at the section in lab-p5 on finding the maximum/minimum. Here you will have to find the function value of the function `project.get_mph`."
   ]
  },
  {
   "cell_type": "code",
   "execution_count": 13,
   "id": "c29b26b8",
   "metadata": {
    "tags": []
   },
   "outputs": [
    {
     "data": {
      "text/plain": [
       "190"
      ]
     },
     "execution_count": 13,
     "metadata": {},
     "output_type": "execute_result"
    }
   ],
   "source": [
    "# compute and store the answer in the variable 'max_speed'\n",
    "max_speed = 0\n",
    "for idx in range(project.count()):\n",
    "    if project.get_mph(idx) >= max_speed:\n",
    "        max_speed = project.get_mph(idx)\n",
    "max_speed\n",
    "# display the variable 'max_speed' here"
   ]
  },
  {
   "cell_type": "code",
   "execution_count": 14,
   "id": "2d4069fa",
   "metadata": {
    "deletable": false,
    "editable": false
   },
   "outputs": [
    {
     "data": {
      "text/html": [
       "<p><strong><pre style='display: inline;'>q5</pre></strong> passed!</p>"
      ],
      "text/plain": [
       "q5 results: All test cases passed!"
      ]
     },
     "execution_count": 14,
     "metadata": {},
     "output_type": "execute_result"
    }
   ],
   "source": [
    "grader.check(\"q5\")"
   ]
  },
  {
   "cell_type": "markdown",
   "id": "7e531358",
   "metadata": {},
   "source": [
    "### Function 1: `format_damage(damage)`\n",
    "\n",
    "You will notice if you look at the dataset that the damages caused by the hurricanes are not stored directly as numbers. Instead the damages have a suffix (`\"K\"`, `\"M\"`, or `\"B\"`) attached at the very end. You will have to convert these 'numbers' into integers before you can perform any mathematical operations on them. \n",
    "\n",
    "Since you will need to format damages for multiple hurricanes, you **must** create a general helper function that handles the `\"K\"`, `\"M\"`, and `\"B\"` suffixes. Remember that `\"K\"` stands for thousand, `\"M\"` stands for million, and `\"B\"` stands for billion. For example, your function should convert the string `\"13.5M\"` to `13500000`, `\"6.9K\"` to `6900` and so on. Note that for **some** hurricanes, the `damage` does **not** have **any** suffixes. For instance, the hurricane `Florence` at index `308` did damage `'0'`. Your function **must** also deal with such inputs, by directly typecasting them to ints.\n",
    "\n",
    "This function should take in the strings from the `damage` column as input, and return an **int**.\n",
    "\n",
    "**Warning:** Your function `format_damage` must take in the damage as a **string**, and **not** an index. If you code your function to take in the index of a hurricane, and return the damage caused as an int, it will be useful only for this project. To make your function more useful, you must make it accept the damage itself (i.e., a string like `\"13.5M\"` or `\"6.9K\"`) as input."
   ]
  },
  {
   "cell_type": "code",
   "execution_count": 15,
   "id": "f5f948b6",
   "metadata": {
    "tags": []
   },
   "outputs": [],
   "source": [
    "def format_damage(damage):\n",
    "    damage_amount = 0\n",
    "    # TODO: replace this with your code\n",
    "    #TODO: use relevant intermediary variables to simplify your code\n",
    "    #TODO: check the last character of the string `damage\n",
    "    #TODO: type cast the string (except for last character - use appropriate slicing) into a float\n",
    "    if damage[-1] == \"K\":\n",
    "        damage_amount = int(float(damage[0:-1]) * 1000)\n",
    "    elif damage[-1] == \"M\":\n",
    "        damage_amount = int(float(damage[0:-1]) * 1000000)\n",
    "    elif damage[-1] == \"B\":\n",
    "        damage_amount = int(float(damage[0:-1]) * 1000000000)\n",
    "    else:\n",
    "        damage_amount = int(float(damage))\n",
    "    return damage_amount\n",
    "    #TODO: use the last character of string to determine what factor to multiply the float with\n",
    "    #TODO: type cast the final computation to int"
   ]
  },
  {
   "cell_type": "markdown",
   "id": "887d1890",
   "metadata": {},
   "source": [
    "**Question 6:** What is the `damage` (in dollars) caused by the hurricane named *Gilbert*?\n",
    "\n",
    "There is **exactly one** hurricane in this dataset named *Gilbert*. You **must** exit the loop, and **stop** iterating as soon as you find the hurricane named *Gilbert*.\n",
    "\n",
    "You **must** use the `format_damage` function to answer this question."
   ]
  },
  {
   "cell_type": "code",
   "execution_count": 16,
   "id": "885a7748",
   "metadata": {
    "tags": []
   },
   "outputs": [
    {
     "data": {
      "text/plain": [
       "2980000000"
      ]
     },
     "execution_count": 16,
     "metadata": {},
     "output_type": "execute_result"
    }
   ],
   "source": [
    "# compute and store the answer in the variable 'damage_gilbert'\n",
    "for idx in range(project.count()):\n",
    "    damage_gilbert = format_damage(project.get_damage(idx))\n",
    "    if project.get_name(idx) == \"Gilbert\":\n",
    "        break\n",
    "# display the variable 'damage_gilbert' here\n",
    "damage_gilbert"
   ]
  },
  {
   "cell_type": "code",
   "execution_count": 17,
   "id": "b5149122",
   "metadata": {
    "deletable": false,
    "editable": false
   },
   "outputs": [
    {
     "data": {
      "text/html": [
       "<p><strong><pre style='display: inline;'>q6</pre></strong> passed!</p>"
      ],
      "text/plain": [
       "q6 results: All test cases passed!"
      ]
     },
     "execution_count": 17,
     "metadata": {},
     "output_type": "execute_result"
    }
   ],
   "source": [
    "grader.check(\"q6\")"
   ]
  },
  {
   "cell_type": "markdown",
   "id": "5a7d581e",
   "metadata": {},
   "source": [
    "**Question 7:** What is the **total** `damage` (in dollars) caused by all hurricanes named *Karen* in the dataset? \n",
    "\n",
    "There are **multiple** hurricanes in this dataset named *Karen*. You must add up the damages caused by all of them. You **must** use the `format_damage` function to answer this question."
   ]
  },
  {
   "cell_type": "code",
   "execution_count": 18,
   "id": "372c1c00",
   "metadata": {
    "tags": []
   },
   "outputs": [
    {
     "data": {
      "text/plain": [
       "4948000"
      ]
     },
     "execution_count": 18,
     "metadata": {},
     "output_type": "execute_result"
    }
   ],
   "source": [
    "# compute and store the answer in the variable 'total_damage_karen'\n",
    "total_damage_karen = 0\n",
    "for idx in range(project.count()):\n",
    "    if project.get_name(idx) == \"Karen\":\n",
    "        total_damage_karen += format_damage(project.get_damage(idx))\n",
    "        \n",
    "# display the variable 'total_damage_karen' here\n",
    "total_damage_karen"
   ]
  },
  {
   "cell_type": "code",
   "execution_count": 19,
   "id": "d0496807",
   "metadata": {
    "deletable": false,
    "editable": false
   },
   "outputs": [
    {
     "data": {
      "text/html": [
       "<p><strong><pre style='display: inline;'>q7</pre></strong> passed!</p>"
      ],
      "text/plain": [
       "q7 results: All test cases passed!"
      ]
     },
     "execution_count": 19,
     "metadata": {},
     "output_type": "execute_result"
    }
   ],
   "source": [
    "grader.check(\"q7\")"
   ]
  },
  {
   "cell_type": "markdown",
   "id": "d77b71ee",
   "metadata": {},
   "source": [
    "**Question 8:** What is the **average** `damage` caused by hurricanes with names starting with the letter *G*?\n",
    "\n",
    "You should only consider hurricanes whose **first character** is `\"G\"`. Remember to search for `\"G\"` and not `\"g\"`. "
   ]
  },
  {
   "cell_type": "code",
   "execution_count": 20,
   "id": "9f9ee223",
   "metadata": {
    "tags": []
   },
   "outputs": [
    {
     "data": {
      "text/plain": [
       "705289941.1764706"
      ]
     },
     "execution_count": 20,
     "metadata": {},
     "output_type": "execute_result"
    }
   ],
   "source": [
    "# compute and store the answer in the variable 'average_damage_starts_g'\n",
    "# use relevant intermediary variables to simplify your code\n",
    "average_damage_starts_g = 0\n",
    "total_damage_g = 0\n",
    "count_g = 0\n",
    "for idx in range(project.count()):\n",
    "    if project.get_name(idx)[0] == \"G\":\n",
    "        total_damage_g += format_damage(project.get_damage(idx))\n",
    "        count_g += 1\n",
    "        \n",
    "average_damage_starts_g = total_damage_g/count_g\n",
    "        \n",
    "# display the variable 'average_damage_starts_g' here\n",
    "average_damage_starts_g"
   ]
  },
  {
   "cell_type": "code",
   "execution_count": 21,
   "id": "530c6e45",
   "metadata": {
    "deletable": false,
    "editable": false
   },
   "outputs": [
    {
     "data": {
      "text/html": [
       "<p><strong><pre style='display: inline;'>q8</pre></strong> passed!</p>"
      ],
      "text/plain": [
       "q8 results: All test cases passed!"
      ]
     },
     "execution_count": 21,
     "metadata": {},
     "output_type": "execute_result"
    }
   ],
   "source": [
    "grader.check(\"q8\")"
   ]
  },
  {
   "cell_type": "markdown",
   "id": "21504d6c",
   "metadata": {},
   "source": [
    "**Question 9:** What is the `name` of the **slowest** hurricane in the dataset?\n",
    "\n",
    "To break ties (if there are multiple hurricanes with the same speed), you **must** consider the **last** one you find."
   ]
  },
  {
   "cell_type": "code",
   "execution_count": 22,
   "id": "34e3c619",
   "metadata": {
    "tags": []
   },
   "outputs": [
    {
     "data": {
      "text/plain": [
       "'2010 Tropical Depression Five'"
      ]
     },
     "execution_count": 22,
     "metadata": {},
     "output_type": "execute_result"
    }
   ],
   "source": [
    "# compute and store the answer in the variable 'slowest_hurricane'\n",
    "slowest_idx = 0\n",
    "for idx in range(project.count()):\n",
    "    if project.get_mph(idx) <= project.get_mph(slowest_idx):\n",
    "        slowest_idx = idx\n",
    "slowest_hurricane = project.get_name(slowest_idx)\n",
    "\n",
    "# display the variable 'slowest_hurricane' here\n",
    "slowest_hurricane"
   ]
  },
  {
   "cell_type": "code",
   "execution_count": 23,
   "id": "d746b25a",
   "metadata": {
    "deletable": false,
    "editable": false
   },
   "outputs": [
    {
     "data": {
      "text/html": [
       "<p><strong><pre style='display: inline;'>q9</pre></strong> passed!</p>"
      ],
      "text/plain": [
       "q9 results: All test cases passed!"
      ]
     },
     "execution_count": 23,
     "metadata": {},
     "output_type": "execute_result"
    }
   ],
   "source": [
    "grader.check(\"q9\")"
   ]
  },
  {
   "cell_type": "markdown",
   "id": "696ff74d",
   "metadata": {},
   "source": [
    "**Question 10:** What is the `damage` (in dollars) caused by the **slowest** hurricane (found in `Q9`)?\n",
    "\n",
    "**Hint:** If you find the **index** of the slowest hurricane in `Q9` instead of just the **name** of the hurricane, you can solve `Q10` very easily using the appropriate function from the project module (i.e., without writing a new loop)."
   ]
  },
  {
   "cell_type": "code",
   "execution_count": 24,
   "id": "0347a62a",
   "metadata": {
    "tags": []
   },
   "outputs": [
    {
     "data": {
      "text/plain": [
       "1000000"
      ]
     },
     "execution_count": 24,
     "metadata": {},
     "output_type": "execute_result"
    }
   ],
   "source": [
    "# compute and store the answer in the variable 'slowest_hurricane_damage'\n",
    "slowest_hurricane_damage = format_damage(project.get_damage(slowest_idx))\n",
    "# display the variable 'slowest_hurricane_damage' here\n",
    "slowest_hurricane_damage"
   ]
  },
  {
   "cell_type": "code",
   "execution_count": 25,
   "id": "8fa40e27",
   "metadata": {
    "deletable": false,
    "editable": false
   },
   "outputs": [
    {
     "data": {
      "text/html": [
       "<p><strong><pre style='display: inline;'>q10</pre></strong> passed!</p>"
      ],
      "text/plain": [
       "q10 results: All test cases passed!"
      ]
     },
     "execution_count": 25,
     "metadata": {},
     "output_type": "execute_result"
    }
   ],
   "source": [
    "grader.check(\"q10\")"
   ]
  },
  {
   "cell_type": "markdown",
   "id": "b582fd3d",
   "metadata": {},
   "source": [
    "### Functions 2, 3, 4: `get_year(date)`, `get_month(date)`, and `get_day(date)`\n",
    "\n",
    "Now would be a good time to copy the `get_year`, `get_month`, and `get_day` functions you created in lab-p5 to your project notebook. You will need these functions for the upcoming questions."
   ]
  },
  {
   "cell_type": "code",
   "execution_count": 26,
   "id": "b1d0ad30",
   "metadata": {
    "tags": []
   },
   "outputs": [],
   "source": [
    "# copy/paste the get_year, get_month, and get_day functions here from your lab-p5 practice notebook\n",
    "def get_month(date):\n",
    "    return int(date[:2])\n",
    "\n",
    "def get_year(date):\n",
    "    return int(date[6:10])\n",
    "\n",
    "def get_day(date):\n",
    "    return int(date[3:5])"
   ]
  },
  {
   "cell_type": "markdown",
   "id": "65bc253e",
   "metadata": {},
   "source": [
    "**Question 11:** What is the `name` of the **earliest** hurricane which caused over *1 billion* dollars in `damages`?\n",
    "\n",
    "You **must** use the `year` of formation of the hurricane to identify the earliest hurricane. There are **no** other hurricanes in that year which caused over 1 billion dollars in damages, so you do not have to worry about breaking ties. You **must not** use the indices of the hurricanes to determine the earliest hurricane.\n",
    "\n",
    "You need to find the hurricane with the earliest year of formation among those hurricanes with more than 1 billion dollars in damages. You **must not** initialize your variable to be some hurricane which caused less than 1 billion dollars in damages, such as the hurricane at index `0` for example. If you do so, you will find that you are finding the hurricane with the earliest year of formation among the hurricanes with **either** more than 1 billion dollars in damages **or** have index `0`. This is **not** what you need to do.\n",
    "\n",
    "**Hint:** Take a look at the [lecture notes for October 3](https://git.doit.wisc.edu/cdis/cs/courses/cs220/cs220-lecture-material/-/tree/main/f22/meena_lec_notes/lec-12) if you do not remember how to find the maximum/minimum with `None` initialization."
   ]
  },
  {
   "cell_type": "code",
   "execution_count": 27,
   "id": "6401c2e9",
   "metadata": {
    "tags": []
   },
   "outputs": [
    {
     "data": {
      "text/plain": [
       "'1900 Galveston hurricane'"
      ]
     },
     "execution_count": 27,
     "metadata": {},
     "output_type": "execute_result"
    }
   ],
   "source": [
    "# compute and store the answer in the variable 'earliest_billion_dollar_hurr'\n",
    "hurr_year = None\n",
    "\n",
    "for idx in range(project.count()):\n",
    "    damage = format_damage(project.get_damage(idx))\n",
    "    earliest_year = get_year(project.get_formed(idx))\n",
    "            \n",
    "    if damage > 1000000000:\n",
    "        if hurr_year == None or hurr_year > earliest_year:\n",
    "            hurr_year = earliest_year\n",
    "            earliest_billion_dollar_hurr = project.get_name(idx)\n",
    "\n",
    "# display the variable 'earliest_billion_dollar_hurr' here\n",
    "earliest_billion_dollar_hurr"
   ]
  },
  {
   "cell_type": "code",
   "execution_count": 28,
   "id": "1dadb685",
   "metadata": {
    "deletable": false,
    "editable": false
   },
   "outputs": [
    {
     "data": {
      "text/html": [
       "<p><strong><pre style='display: inline;'>q11</pre></strong> passed!</p>"
      ],
      "text/plain": [
       "q11 results: All test cases passed!"
      ]
     },
     "execution_count": 28,
     "metadata": {},
     "output_type": "execute_result"
    }
   ],
   "source": [
    "grader.check(\"q11\")"
   ]
  },
  {
   "cell_type": "markdown",
   "id": "a49f4af3",
   "metadata": {},
   "source": [
    "**Question 12:** What is the `name` of the **most recent** hurricane which caused over *100 billion* dollars in `damages`?\n",
    "\n",
    "You **must** use the `year` of formation of the hurricane to identify the most recent hurricane. There are **no** other hurricanes in that year which caused over 100 billion dollars in damages, so you do not have to worry about breaking ties. You **must not** use the indices of the hurricanes to determine the most recent hurricane.\n",
    "\n",
    "As in `Q11`, you **must** initialize the variable you use to store the index of the most recent hurricane as `None`, and update it for the first time only when you come across the first hurricane in the dataset which caused over 100 billion dollars in damages."
   ]
  },
  {
   "cell_type": "code",
   "execution_count": 29,
   "id": "19bb1889",
   "metadata": {
    "tags": []
   },
   "outputs": [
    {
     "data": {
      "text/plain": [
       "'Harvey'"
      ]
     },
     "execution_count": 29,
     "metadata": {},
     "output_type": "execute_result"
    }
   ],
   "source": [
    "# compute and store the answer in the variable 'most_recent_100_billion_hurr'\n",
    "\n",
    "hurr_year = None\n",
    "\n",
    "for idx in range(project.count()):\n",
    "    damage = format_damage(project.get_damage(idx))\n",
    "    most_recent_year = get_year(project.get_formed(idx))\n",
    "            \n",
    "    if damage > 100000000000:\n",
    "        if hurr_year == None or hurr_year < most_recent_year:\n",
    "            hurr_year = most_recent_year\n",
    "            most_recent_100_billion_hurr = project.get_name(idx)\n",
    "            \n",
    "# display the variable 'most_recent_100_billion_hurr' here\n",
    "most_recent_100_billion_hurr"
   ]
  },
  {
   "cell_type": "code",
   "execution_count": 30,
   "id": "63487578",
   "metadata": {
    "deletable": false,
    "editable": false
   },
   "outputs": [
    {
     "data": {
      "text/html": [
       "<p><strong><pre style='display: inline;'>q12</pre></strong> passed!</p>"
      ],
      "text/plain": [
       "q12 results: All test cases passed!"
      ]
     },
     "execution_count": 30,
     "metadata": {},
     "output_type": "execute_result"
    }
   ],
   "source": [
    "grader.check(\"q12\")"
   ]
  },
  {
   "cell_type": "markdown",
   "id": "4eff4c0f",
   "metadata": {},
   "source": [
    "### Function 5: `deadliest_in_range(year1, year2)`\n",
    "\n",
    "This function should take in two years, `year1` and `year2` as its inputs and return the **index** of the hurricane which formed **or** dissipated between `year1` and `year2` and caused the **most** `deaths`. In case of any ties, you must return the index of the **first** hurricane in the dataset with the most deaths.\n",
    "\n",
    "As in `Q11` and `Q12`, you **must** initialize the variable you use to store the index of the deadliest hurricane as `None`, and update it for the first time only when you come across the first hurricane in the dataset within the year range."
   ]
  },
  {
   "cell_type": "code",
   "execution_count": 31,
   "id": "c3d26550",
   "metadata": {
    "tags": []
   },
   "outputs": [],
   "source": [
    "def deadliest_in_range(year1, year2):\n",
    "    \"\"\"\n",
    "    gets the index of the deadliest (most deaths) hurricane formed or dissipated within the given year range.\n",
    "    year1 and year2 are inclusive bounds.\n",
    "\n",
    "    returns the index of the worst hurricane within the year range.\n",
    "    \"\"\"\n",
    "    # TODO: replace with your code\n",
    "    deadliest_hurricane_idx = None\n",
    "    for idx in range(project.count()):\n",
    "        hurr_deaths = project.get_deaths(idx)\n",
    "        if year1 <= get_year(project.get_formed(idx)) <= year2 or year1 <= get_year(project.get_dissipated(idx)) <= year2:\n",
    "            if deadliest_hurricane_idx == None or project.get_deaths(deadliest_hurricane_idx) < hurr_deaths:\n",
    "                deadliest_hurricane_idx = idx\n",
    "    return deadliest_hurricane_idx"
   ]
  },
  {
   "cell_type": "markdown",
   "id": "7fe5b265",
   "metadata": {},
   "source": [
    "**Question 13:** How much `damage` (in dollars) was done by the **deadliest** hurricane this century thus far (*2001 to 2022*, both inclusive)?\n",
    "\n",
    "Your answer **must** be an `int`. For this question, you may hardcode the years in the range."
   ]
  },
  {
   "cell_type": "code",
   "execution_count": 32,
   "id": "6371f4c6",
   "metadata": {
    "tags": []
   },
   "outputs": [
    {
     "data": {
      "text/plain": [
       "91610000000"
      ]
     },
     "execution_count": 32,
     "metadata": {},
     "output_type": "execute_result"
    }
   ],
   "source": [
    "# compute and store the answer in the variable 'damage_by_deadliest_21st_century'\n",
    "damage_by_deadliest_21st_century = format_damage(project.get_damage(deadliest_in_range(2001, 2022)))\n",
    "# display the variable 'damage_by_deadliest_21st_century' here\n",
    "damage_by_deadliest_21st_century"
   ]
  },
  {
   "cell_type": "code",
   "execution_count": 33,
   "id": "bba0b0a8",
   "metadata": {
    "deletable": false,
    "editable": false
   },
   "outputs": [
    {
     "data": {
      "text/html": [
       "<p><strong><pre style='display: inline;'>q13</pre></strong> passed!</p>"
      ],
      "text/plain": [
       "q13 results: All test cases passed!"
      ]
     },
     "execution_count": 33,
     "metadata": {},
     "output_type": "execute_result"
    }
   ],
   "source": [
    "grader.check(\"q13\")"
   ]
  },
  {
   "cell_type": "markdown",
   "id": "779abbbb",
   "metadata": {},
   "source": [
    "**Question 14:** What was the speed (in `mph`) of the **deadliest** hurricane of the 20th century (*1901 to 2000*, both inclusive)?"
   ]
  },
  {
   "cell_type": "code",
   "execution_count": 34,
   "id": "c8455b3f",
   "metadata": {
    "tags": []
   },
   "outputs": [
    {
     "data": {
      "text/plain": [
       "155"
      ]
     },
     "execution_count": 34,
     "metadata": {},
     "output_type": "execute_result"
    }
   ],
   "source": [
    "# compute and store the answer in the variable 'speed_of_deadliest_20th_century'\n",
    "speed_of_deadliest_20th_century = project.get_mph(deadliest_in_range(1901, 2000))\n",
    "# display the variable 'speed_of_deadliest_20th_century' here\n",
    "speed_of_deadliest_20th_century"
   ]
  },
  {
   "cell_type": "code",
   "execution_count": 35,
   "id": "ca8d0783",
   "metadata": {
    "deletable": false,
    "editable": false
   },
   "outputs": [
    {
     "data": {
      "text/html": [
       "<p><strong><pre style='display: inline;'>q14</pre></strong> passed!</p>"
      ],
      "text/plain": [
       "q14 results: All test cases passed!"
      ]
     },
     "execution_count": 35,
     "metadata": {},
     "output_type": "execute_result"
    }
   ],
   "source": [
    "grader.check(\"q14\")"
   ]
  },
  {
   "cell_type": "markdown",
   "id": "4accf073",
   "metadata": {},
   "source": [
    "---\n",
    "\n",
    "**Question 15:** In this century (*2001 to 2021*, both inclusive) how many hurricanes formed on **average**, in the `month` of *October*?\n",
    "\n",
    "We will ignore the year *2022*, since *October* has just started. Your answer must be a  **float**."
   ]
  },
  {
   "cell_type": "code",
   "execution_count": 36,
   "id": "56414513",
   "metadata": {
    "tags": []
   },
   "outputs": [
    {
     "data": {
      "text/plain": [
       "0.38095238095238093"
      ]
     },
     "execution_count": 36,
     "metadata": {},
     "output_type": "execute_result"
    }
   ],
   "source": [
    "# compute and store the answer in the variable 'avg_hurricanes_in_oct'\n",
    "\n",
    "start_year = 2001\n",
    "end_year = 2021\n",
    "oct_hurr_count = 0\n",
    "for idx in range(project.count()):\n",
    "    if start_year <= get_year(project.get_formed(idx)) <= end_year:\n",
    "        if get_month(project.get_formed(idx)) == 10:\n",
    "            oct_hurr_count += 1\n",
    "    avg_hurricanes_in_oct = oct_hurr_count / ((end_year - start_year) + 1)\n",
    "            \n",
    "# display the variable 'avg_hurricanes_in_oct' here\n",
    "avg_hurricanes_in_oct"
   ]
  },
  {
   "cell_type": "code",
   "execution_count": 37,
   "id": "23fb4b69",
   "metadata": {
    "deletable": false,
    "editable": false
   },
   "outputs": [
    {
     "data": {
      "text/html": [
       "<p><strong><pre style='display: inline;'>q15</pre></strong> passed!</p>"
      ],
      "text/plain": [
       "q15 results: All test cases passed!"
      ]
     },
     "execution_count": 37,
     "metadata": {},
     "output_type": "execute_result"
    }
   ],
   "source": [
    "grader.check(\"q15\")"
   ]
  },
  {
   "cell_type": "markdown",
   "id": "4b359401",
   "metadata": {},
   "source": [
    "### Function 6: `get_year_total(year)`\n",
    "\n",
    "This function should take in `year` as its input and return the number of hurricanes that were **formed** in the given `year`."
   ]
  },
  {
   "cell_type": "code",
   "execution_count": 38,
   "id": "39b289e6",
   "metadata": {
    "tags": []
   },
   "outputs": [],
   "source": [
    "# define the function `get_year_total` here\n",
    "def get_year_total(year):\n",
    "    num_hurr = 0\n",
    "    for idx in range(project.count()):\n",
    "            if get_year(project.get_formed(idx)) == year:\n",
    "                num_hurr += 1\n",
    "    return num_hurr"
   ]
  },
  {
   "cell_type": "markdown",
   "id": "b52c8985",
   "metadata": {},
   "source": [
    "**Question 16:** How many hurricanes were formed in the `year` *2018*?\n",
    "\n",
    "You **must** answer this question by calling `get_year_total`."
   ]
  },
  {
   "cell_type": "code",
   "execution_count": 39,
   "id": "85998b5d",
   "metadata": {
    "tags": []
   },
   "outputs": [
    {
     "data": {
      "text/plain": [
       "8"
      ]
     },
     "execution_count": 39,
     "metadata": {},
     "output_type": "execute_result"
    }
   ],
   "source": [
    "# compute and store the answer in the variable 'total_hurricanes_2018'\n",
    "total_hurricanes_2018 = get_year_total(2018)\n",
    "# display the variable 'total_hurricanes_2018' here\n",
    "total_hurricanes_2018"
   ]
  },
  {
   "cell_type": "code",
   "execution_count": 40,
   "id": "41b77e0f",
   "metadata": {
    "deletable": false,
    "editable": false
   },
   "outputs": [
    {
     "data": {
      "text/html": [
       "<p><strong><pre style='display: inline;'>q16</pre></strong> passed!</p>"
      ],
      "text/plain": [
       "q16 results: All test cases passed!"
      ]
     },
     "execution_count": 40,
     "metadata": {},
     "output_type": "execute_result"
    }
   ],
   "source": [
    "grader.check(\"q16\")"
   ]
  },
  {
   "cell_type": "markdown",
   "id": "8258ae0d",
   "metadata": {},
   "source": [
    "**Question 17:** How many hurricanes were formed in the last `decade` (*2011 to 2020*, both inclusive)?\n",
    "\n",
    "You **must** answer this question by looping across the years in this decade, and calling the function `get_year_total`."
   ]
  },
  {
   "cell_type": "code",
   "execution_count": 41,
   "id": "425f1a9e",
   "metadata": {
    "tags": []
   },
   "outputs": [
    {
     "data": {
      "text/plain": [
       "98"
      ]
     },
     "execution_count": 41,
     "metadata": {},
     "output_type": "execute_result"
    }
   ],
   "source": [
    "# compute and store the answer in the variable 'total_hurricanes_in_last_decade'\n",
    "start_year = 2011\n",
    "end_year = 2021\n",
    "total_hurricanes_in_last_decade = 0\n",
    "\n",
    "for year in range(start_year, end_year):\n",
    "     #if start_year <= get_year(project.get_formed(idx)) <= end_year:\n",
    "        #total_hurricanes_in_last_decade += 1\n",
    "    #if get_year(project.get_formed(idx)) >= start_year and get_year(project.get_formed(idx)) <= end_year:\n",
    "    total_hurricanes_in_last_decade += get_year_total(year) \n",
    "    \n",
    "# display the variable 'total_hurricanes_in_last_decade' here\n",
    "total_hurricanes_in_last_decade"
   ]
  },
  {
   "cell_type": "code",
   "execution_count": 42,
   "id": "0d52a186",
   "metadata": {
    "deletable": false,
    "editable": false
   },
   "outputs": [
    {
     "data": {
      "text/html": [
       "<p><strong><pre style='display: inline;'>q17</pre></strong> passed!</p>"
      ],
      "text/plain": [
       "q17 results: All test cases passed!"
      ]
     },
     "execution_count": 42,
     "metadata": {},
     "output_type": "execute_result"
    }
   ],
   "source": [
    "grader.check(\"q17\")"
   ]
  },
  {
   "cell_type": "markdown",
   "id": "69c4ed25",
   "metadata": {},
   "source": [
    "**Question 18:** Which `year` in the 20th century (*1901 to 2000*, both inclusive) suffered the **most** number of hurricanes?\n",
    "\n",
    "You **must** answer this question by calling the function `get_year_total`. You **must** break ties in favor of the most recent year."
   ]
  },
  {
   "cell_type": "code",
   "execution_count": 43,
   "id": "c51684f8",
   "metadata": {
    "tags": []
   },
   "outputs": [
    {
     "data": {
      "text/plain": [
       "1995"
      ]
     },
     "execution_count": 43,
     "metadata": {},
     "output_type": "execute_result"
    }
   ],
   "source": [
    "# compute and store the answer in the variable 'year_with_most_hurricanes'\n",
    "start_year = 1901\n",
    "end_year = 2001\n",
    "most_hurr = 0\n",
    "\n",
    "for year in range(start_year, end_year):\n",
    "    if most_hurr == 0 or most_hurr <= get_year_total(year):\n",
    "        most_hurr = get_year_total(year)\n",
    "        year_with_most_hurricanes = year\n",
    "\n",
    "# display the variable 'year_with_most_hurricanes' here\n",
    "year_with_most_hurricanes"
   ]
  },
  {
   "cell_type": "code",
   "execution_count": 44,
   "id": "b61c3df5",
   "metadata": {
    "deletable": false,
    "editable": false
   },
   "outputs": [
    {
     "data": {
      "text/html": [
       "<p><strong><pre style='display: inline;'>q18</pre></strong> passed!</p>"
      ],
      "text/plain": [
       "q18 results: All test cases passed!"
      ]
     },
     "execution_count": 44,
     "metadata": {},
     "output_type": "execute_result"
    }
   ],
   "source": [
    "grader.check(\"q18\")"
   ]
  },
  {
   "cell_type": "markdown",
   "id": "1903467b",
   "metadata": {},
   "source": [
    "**Question 19:** How many hurricanes lasted across at least 2 *different* `months`?\n",
    "\n",
    "**Hint:** You can determine if a hurricane lasted across two different months by comparing the month of formation and the month of dissipation of the hurricane. Note that there may be hurricanes which formed late in the year, and dissipated early in the next year."
   ]
  },
  {
   "cell_type": "code",
   "execution_count": 45,
   "id": "73de692e",
   "metadata": {
    "tags": []
   },
   "outputs": [
    {
     "data": {
      "text/plain": [
       "149"
      ]
     },
     "execution_count": 45,
     "metadata": {},
     "output_type": "execute_result"
    }
   ],
   "source": [
    "# compute and store the answer in the variable 'multiple_months_hurrs'\n",
    "multiple_months_hurrs = 0\n",
    "for idx in range(project.count()):\n",
    "    if get_month(project.get_formed(idx)) != get_month(project.get_dissipated(idx)):\n",
    "        multiple_months_hurrs += 1\n",
    "# display the variable 'multiple_months_hurrs' here\n",
    "multiple_months_hurrs"
   ]
  },
  {
   "cell_type": "code",
   "execution_count": 46,
   "id": "9de0ae91",
   "metadata": {
    "deletable": false,
    "editable": false
   },
   "outputs": [
    {
     "data": {
      "text/html": [
       "<p><strong><pre style='display: inline;'>q19</pre></strong> passed!</p>"
      ],
      "text/plain": [
       "q19 results: All test cases passed!"
      ]
     },
     "execution_count": 46,
     "metadata": {},
     "output_type": "execute_result"
    }
   ],
   "source": [
    "grader.check(\"q19\")"
   ]
  },
  {
   "cell_type": "markdown",
   "id": "b9605846",
   "metadata": {},
   "source": [
    "**Question 20:** What is the **average** `damage` caused by the **deadliest** hurricane of each year from *2001 - 2022*, both inclusive?\n",
    "\n",
    "You **must** use the `deadliest_in_range` function to identify the deadliest hurricane of each year, and you **must** use `format_damage` to convert the `damages` into an `int`. You may assume that there is **at least** one hurricane in each of these years, so each year will have a deadliest hurricane. If two hurricanes in a year have the **same** deaths, you must break ties in favor of the hurricane that appears **first** in the dataset.\n",
    "\n",
    "Your answer must be a  **float**."
   ]
  },
  {
   "cell_type": "code",
   "execution_count": 47,
   "id": "2a09751d",
   "metadata": {
    "tags": []
   },
   "outputs": [
    {
     "data": {
      "text/plain": [
       "20404663636.31818"
      ]
     },
     "execution_count": 47,
     "metadata": {},
     "output_type": "execute_result"
    }
   ],
   "source": [
    "# compute and store the answer in the variable 'average_damage_deadliest'\n",
    "start_year = 2001\n",
    "end_year = 2023\n",
    "deadliest_damage_total = 0\n",
    "\n",
    "for year in range(start_year, end_year):\n",
    "    deadliest_damage_total += format_damage(project.get_damage(deadliest_in_range(year, year)))\n",
    "    average_damage_deadliest = deadliest_damage_total/(end_year - start_year)\n",
    "# display the variable 'average_damage_deadliest' here\n",
    "average_damage_deadliest"
   ]
  },
  {
   "cell_type": "code",
   "execution_count": 48,
   "id": "ae722427",
   "metadata": {
    "deletable": false,
    "editable": false
   },
   "outputs": [
    {
     "data": {
      "text/html": [
       "<p><strong><pre style='display: inline;'>q20</pre></strong> passed!</p>"
      ],
      "text/plain": [
       "q20 results: All test cases passed!"
      ]
     },
     "execution_count": 48,
     "metadata": {},
     "output_type": "execute_result"
    }
   ],
   "source": [
    "grader.check(\"q20\")"
   ]
  },
  {
   "cell_type": "markdown",
   "id": "28946414",
   "metadata": {
    "deletable": false,
    "editable": false
   },
   "source": [
    "## Submission\n",
    "\n",
    "Make sure you have run all cells in your notebook in order before running the cell below, so that all images/graphs appear in the output. The cell below will generate a zip file for you to submit. **Please save before exporting!**\n",
    "\n",
    "**SUBMISSION INSTRUCTIONS**: 1. **Save** the notebook file **now (before you run the next cell of code)**. 2. **Upload** the zipfile to Gradescope. 3. Check **Gradescope otter** results as soon as the auto-grader execution gets completed. Don't worry about the score showing up as -/100.0. You only need to check that the test cases passed."
   ]
  },
  {
   "cell_type": "code",
   "execution_count": 49,
   "id": "c7e23627",
   "metadata": {
    "deletable": false,
    "editable": false
   },
   "outputs": [
    {
     "name": "stdout",
     "output_type": "stream",
     "text": [
      "Running your submission against local test cases...\n",
      "\n",
      "Your submission received the following results when run against available test cases:\n",
      "\n",
      "    q1 results: All test cases passed!\n",
      "\n",
      "    q2 results: All test cases passed!\n",
      "\n",
      "    q3 results: All test cases passed!\n",
      "\n",
      "    q4 results: All test cases passed!\n",
      "\n",
      "    q5 results: All test cases passed!\n",
      "\n",
      "    q6 results: All test cases passed!\n",
      "\n",
      "    q7 results: All test cases passed!\n",
      "\n",
      "    q8 results: All test cases passed!\n",
      "\n",
      "    q9 results: All test cases passed!\n",
      "\n",
      "    q10 results: All test cases passed!\n",
      "\n",
      "    q11 results: All test cases passed!\n",
      "\n",
      "    q12 results: All test cases passed!\n",
      "\n",
      "    q13 results: All test cases passed!\n",
      "\n",
      "    q14 results: All test cases passed!\n",
      "\n",
      "    q15 results: All test cases passed!\n",
      "\n",
      "    q16 results: All test cases passed!\n",
      "\n",
      "    q17 results: All test cases passed!\n",
      "\n",
      "    q18 results: All test cases passed!\n",
      "\n",
      "    q19 results: All test cases passed!\n",
      "\n",
      "    q20 results: All test cases passed!\n"
     ]
    },
    {
     "data": {
      "text/html": [
       "\n",
       "            <p>Your submission has been exported. Click <a href=\"p5_2022_10_12T19_06_35_650830.zip\" download=\"p5_2022_10_12T19_06_35_650830.zip\" target=\"_blank\">here</a>\n",
       "            to download the zip file.</p>\n",
       "            "
      ],
      "text/plain": [
       "<IPython.core.display.HTML object>"
      ]
     },
     "metadata": {},
     "output_type": "display_data"
    }
   ],
   "source": [
    "# Save your notebook first, then run this cell to export your submission.\n",
    "grader.export(pdf=False, run_tests=True)"
   ]
  },
  {
   "cell_type": "markdown",
   "id": "8387638d",
   "metadata": {},
   "source": [
    " "
   ]
  }
 ],
 "metadata": {
  "kernelspec": {
   "display_name": "Python 3 (ipykernel)",
   "language": "python",
   "name": "python3"
  },
  "language_info": {
   "codemirror_mode": {
    "name": "ipython",
    "version": 3
   },
   "file_extension": ".py",
   "mimetype": "text/x-python",
   "name": "python",
   "nbconvert_exporter": "python",
   "pygments_lexer": "ipython3",
   "version": "3.9.12"
  },
  "otter": {
   "OK_FORMAT": true,
   "tests": {
    "q1": {
     "name": "q1",
     "points": 5,
     "suites": [
      {
       "cases": [
        {
         "code": ">>> p5_test.check(\"q1\", num_hurricanes)\nTrue",
         "hidden": false,
         "locked": false
        }
       ],
       "scored": true,
       "setup": "",
       "teardown": "",
       "type": "doctest"
      }
     ]
    },
    "q10": {
     "name": "q10",
     "points": 5,
     "suites": [
      {
       "cases": [
        {
         "code": ">>> p5_test.check(\"q10\", slowest_hurricane_damage)\nTrue",
         "hidden": false,
         "locked": false
        }
       ],
       "scored": true,
       "setup": "",
       "teardown": "",
       "type": "doctest"
      }
     ]
    },
    "q11": {
     "name": "q11",
     "points": 5,
     "suites": [
      {
       "cases": [
        {
         "code": ">>> p5_test.check(\"q11\", earliest_billion_dollar_hurr)\nTrue",
         "hidden": false,
         "locked": false
        }
       ],
       "scored": true,
       "setup": "",
       "teardown": "",
       "type": "doctest"
      }
     ]
    },
    "q12": {
     "name": "q12",
     "points": 5,
     "suites": [
      {
       "cases": [
        {
         "code": ">>> p5_test.check(\"q12\", most_recent_100_billion_hurr)\nTrue",
         "hidden": false,
         "locked": false
        }
       ],
       "scored": true,
       "setup": "",
       "teardown": "",
       "type": "doctest"
      }
     ]
    },
    "q13": {
     "name": "q13",
     "points": 5,
     "suites": [
      {
       "cases": [
        {
         "code": ">>> p5_test.check(\"q13\", damage_by_deadliest_21st_century)\nTrue",
         "hidden": false,
         "locked": false
        }
       ],
       "scored": true,
       "setup": "",
       "teardown": "",
       "type": "doctest"
      }
     ]
    },
    "q14": {
     "name": "q14",
     "points": 5,
     "suites": [
      {
       "cases": [
        {
         "code": ">>> p5_test.check(\"q14\", speed_of_deadliest_20th_century)\nTrue",
         "hidden": false,
         "locked": false
        }
       ],
       "scored": true,
       "setup": "",
       "teardown": "",
       "type": "doctest"
      }
     ]
    },
    "q15": {
     "name": "q15",
     "points": 5,
     "suites": [
      {
       "cases": [
        {
         "code": ">>> p5_test.check(\"q15\", avg_hurricanes_in_oct)\nTrue",
         "hidden": false,
         "locked": false
        }
       ],
       "scored": true,
       "setup": "",
       "teardown": "",
       "type": "doctest"
      }
     ]
    },
    "q16": {
     "name": "q16",
     "points": 5,
     "suites": [
      {
       "cases": [
        {
         "code": ">>> p5_test.check(\"q16\", total_hurricanes_2018)\nTrue",
         "hidden": false,
         "locked": false
        }
       ],
       "scored": true,
       "setup": "",
       "teardown": "",
       "type": "doctest"
      }
     ]
    },
    "q17": {
     "name": "q17",
     "points": 5,
     "suites": [
      {
       "cases": [
        {
         "code": ">>> p5_test.check(\"q17\", total_hurricanes_in_last_decade)\nTrue",
         "hidden": false,
         "locked": false
        }
       ],
       "scored": true,
       "setup": "",
       "teardown": "",
       "type": "doctest"
      }
     ]
    },
    "q18": {
     "name": "q18",
     "points": 5,
     "suites": [
      {
       "cases": [
        {
         "code": ">>> p5_test.check(\"q18\", year_with_most_hurricanes)\nTrue",
         "hidden": false,
         "locked": false
        }
       ],
       "scored": true,
       "setup": "",
       "teardown": "",
       "type": "doctest"
      }
     ]
    },
    "q19": {
     "name": "q19",
     "points": 5,
     "suites": [
      {
       "cases": [
        {
         "code": ">>> p5_test.check(\"q19\", multiple_months_hurrs)\nTrue",
         "hidden": false,
         "locked": false
        }
       ],
       "scored": true,
       "setup": "",
       "teardown": "",
       "type": "doctest"
      }
     ]
    },
    "q2": {
     "name": "q2",
     "points": 5,
     "suites": [
      {
       "cases": [
        {
         "code": ">>> p5_test.check(\"q2\", deaths_220)\nTrue",
         "hidden": false,
         "locked": false
        }
       ],
       "scored": true,
       "setup": "",
       "teardown": "",
       "type": "doctest"
      }
     ]
    },
    "q20": {
     "name": "q20",
     "points": 5,
     "suites": [
      {
       "cases": [
        {
         "code": ">>> p5_test.check(\"q20\", average_damage_deadliest)\nTrue",
         "hidden": false,
         "locked": false
        }
       ],
       "scored": true,
       "setup": "",
       "teardown": "",
       "type": "doctest"
      }
     ]
    },
    "q3": {
     "name": "q3",
     "points": 5,
     "suites": [
      {
       "cases": [
        {
         "code": ">>> p5_test.check(\"q3\", name_last_index)\nTrue",
         "hidden": false,
         "locked": false
        }
       ],
       "scored": true,
       "setup": "",
       "teardown": "",
       "type": "doctest"
      }
     ]
    },
    "q4": {
     "name": "q4",
     "points": 5,
     "suites": [
      {
       "cases": [
        {
         "code": ">>> p5_test.check(\"q4\", ida_count )\nTrue",
         "hidden": false,
         "locked": false
        }
       ],
       "scored": true,
       "setup": "",
       "teardown": "",
       "type": "doctest"
      }
     ]
    },
    "q5": {
     "name": "q5",
     "points": 5,
     "suites": [
      {
       "cases": [
        {
         "code": ">>> p5_test.check(\"q5\", max_speed)\nTrue",
         "hidden": false,
         "locked": false
        }
       ],
       "scored": true,
       "setup": "",
       "teardown": "",
       "type": "doctest"
      }
     ]
    },
    "q6": {
     "name": "q6",
     "points": 5,
     "suites": [
      {
       "cases": [
        {
         "code": ">>> p5_test.check(\"q6\", damage_gilbert)\nTrue",
         "hidden": false,
         "locked": false
        }
       ],
       "scored": true,
       "setup": "",
       "teardown": "",
       "type": "doctest"
      }
     ]
    },
    "q7": {
     "name": "q7",
     "points": 5,
     "suites": [
      {
       "cases": [
        {
         "code": ">>> p5_test.check(\"q7\", total_damage_karen)\nTrue",
         "hidden": false,
         "locked": false
        }
       ],
       "scored": true,
       "setup": "",
       "teardown": "",
       "type": "doctest"
      }
     ]
    },
    "q8": {
     "name": "q8",
     "points": 5,
     "suites": [
      {
       "cases": [
        {
         "code": ">>> p5_test.check(\"q8\", average_damage_starts_g)\nTrue",
         "hidden": false,
         "locked": false
        }
       ],
       "scored": true,
       "setup": "",
       "teardown": "",
       "type": "doctest"
      }
     ]
    },
    "q9": {
     "name": "q9",
     "points": 5,
     "suites": [
      {
       "cases": [
        {
         "code": ">>> p5_test.check(\"q9\", slowest_hurricane)\nTrue",
         "hidden": false,
         "locked": false
        }
       ],
       "scored": true,
       "setup": "",
       "teardown": "",
       "type": "doctest"
      }
     ]
    }
   }
  }
 },
 "nbformat": 4,
 "nbformat_minor": 5
}
